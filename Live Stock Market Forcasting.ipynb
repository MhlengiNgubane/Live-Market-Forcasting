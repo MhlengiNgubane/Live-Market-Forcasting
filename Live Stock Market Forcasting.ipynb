{
 "cells": [
  {
   "cell_type": "markdown",
   "metadata": {},
   "source": [
    "## Import Libraries"
   ]
  },
  {
   "cell_type": "code",
   "execution_count": 1,
   "metadata": {},
   "outputs": [],
   "source": [
    "import yfinance as yf\n",
    "import matplotlib.pyplot as plt\n",
    "import numpy as np\n",
    "import tensorflow as tf\n",
    "from tensorflow import keras\n",
    "from sklearn.preprocessing import MinMaxScaler\n",
    "from tensorflow.keras.models import Sequential\n",
    "from tensorflow.keras.layers import Dense, LSTM"
   ]
  },
  {
   "cell_type": "markdown",
   "metadata": {},
   "source": [
    "## See the Yahoo Finance Ticker for Your Stock Symbol"
   ]
  },
  {
   "cell_type": "code",
   "execution_count": 2,
   "metadata": {},
   "outputs": [],
   "source": [
    "stock_symbol = 'NZDUSD=X'"
   ]
  },
  {
   "cell_type": "markdown",
   "metadata": {},
   "source": [
    "### Last 5 Years Data With Interval of 1 Day"
   ]
  },
  {
   "cell_type": "code",
   "execution_count": 3,
   "metadata": {},
   "outputs": [
    {
     "name": "stdout",
     "output_type": "stream",
     "text": [
      "[*********************100%***********************]  1 of 1 completed\n"
     ]
    }
   ],
   "source": [
    "data = yf.download(tickers=stock_symbol, period='5y', interval='1d')"
   ]
  },
  {
   "cell_type": "code",
   "execution_count": 4,
   "metadata": {},
   "outputs": [
    {
     "data": {
      "text/plain": [
       "pandas.core.frame.DataFrame"
      ]
     },
     "execution_count": 4,
     "metadata": {},
     "output_type": "execute_result"
    }
   ],
   "source": [
    "type(data)"
   ]
  },
  {
   "cell_type": "code",
   "execution_count": 5,
   "metadata": {
    "scrolled": true
   },
   "outputs": [
    {
     "data": {
      "text/html": [
       "<div>\n",
       "<style scoped>\n",
       "    .dataframe tbody tr th:only-of-type {\n",
       "        vertical-align: middle;\n",
       "    }\n",
       "\n",
       "    .dataframe tbody tr th {\n",
       "        vertical-align: top;\n",
       "    }\n",
       "\n",
       "    .dataframe thead th {\n",
       "        text-align: right;\n",
       "    }\n",
       "</style>\n",
       "<table border=\"1\" class=\"dataframe\">\n",
       "  <thead>\n",
       "    <tr style=\"text-align: right;\">\n",
       "      <th></th>\n",
       "      <th>Open</th>\n",
       "      <th>High</th>\n",
       "      <th>Low</th>\n",
       "      <th>Close</th>\n",
       "      <th>Adj Close</th>\n",
       "      <th>Volume</th>\n",
       "    </tr>\n",
       "    <tr>\n",
       "      <th>Date</th>\n",
       "      <th></th>\n",
       "      <th></th>\n",
       "      <th></th>\n",
       "      <th></th>\n",
       "      <th></th>\n",
       "      <th></th>\n",
       "    </tr>\n",
       "  </thead>\n",
       "  <tbody>\n",
       "    <tr>\n",
       "      <th>2022-04-05</th>\n",
       "      <td>0.694850</td>\n",
       "      <td>0.703448</td>\n",
       "      <td>0.694420</td>\n",
       "      <td>0.694850</td>\n",
       "      <td>0.694850</td>\n",
       "      <td>0</td>\n",
       "    </tr>\n",
       "    <tr>\n",
       "      <th>2022-04-06</th>\n",
       "      <td>0.694768</td>\n",
       "      <td>0.696748</td>\n",
       "      <td>0.692612</td>\n",
       "      <td>0.694768</td>\n",
       "      <td>0.694768</td>\n",
       "      <td>0</td>\n",
       "    </tr>\n",
       "    <tr>\n",
       "      <th>2022-04-07</th>\n",
       "      <td>0.691152</td>\n",
       "      <td>0.692042</td>\n",
       "      <td>0.688320</td>\n",
       "      <td>0.691152</td>\n",
       "      <td>0.691152</td>\n",
       "      <td>0</td>\n",
       "    </tr>\n",
       "    <tr>\n",
       "      <th>2022-04-08</th>\n",
       "      <td>0.688492</td>\n",
       "      <td>0.689218</td>\n",
       "      <td>0.682412</td>\n",
       "      <td>0.688492</td>\n",
       "      <td>0.688492</td>\n",
       "      <td>0</td>\n",
       "    </tr>\n",
       "    <tr>\n",
       "      <th>2022-04-11</th>\n",
       "      <td>0.684838</td>\n",
       "      <td>0.685683</td>\n",
       "      <td>0.683527</td>\n",
       "      <td>0.683901</td>\n",
       "      <td>0.683901</td>\n",
       "      <td>0</td>\n",
       "    </tr>\n",
       "  </tbody>\n",
       "</table>\n",
       "</div>"
      ],
      "text/plain": [
       "                Open      High       Low     Close  Adj Close  Volume\n",
       "Date                                                                 \n",
       "2022-04-05  0.694850  0.703448  0.694420  0.694850   0.694850       0\n",
       "2022-04-06  0.694768  0.696748  0.692612  0.694768   0.694768       0\n",
       "2022-04-07  0.691152  0.692042  0.688320  0.691152   0.691152       0\n",
       "2022-04-08  0.688492  0.689218  0.682412  0.688492   0.688492       0\n",
       "2022-04-11  0.684838  0.685683  0.683527  0.683901   0.683901       0"
      ]
     },
     "execution_count": 5,
     "metadata": {},
     "output_type": "execute_result"
    }
   ],
   "source": [
    "data.tail()"
   ]
  },
  {
   "cell_type": "markdown",
   "metadata": {},
   "source": [
    "### Use Open Prices"
   ]
  },
  {
   "cell_type": "code",
   "execution_count": 6,
   "metadata": {
    "scrolled": true
   },
   "outputs": [],
   "source": [
    "opn = data['Open']"
   ]
  },
  {
   "cell_type": "markdown",
   "metadata": {},
   "source": [
    "### Plot Open Value Prices"
   ]
  },
  {
   "cell_type": "code",
   "execution_count": 7,
   "metadata": {},
   "outputs": [
    {
     "data": {
      "text/plain": [
       "<matplotlib.axes._subplots.AxesSubplot at 0x128f183b1d0>"
      ]
     },
     "execution_count": 7,
     "metadata": {},
     "output_type": "execute_result"
    },
    {
     "data": {
      "image/png": "[encoded data removed]",
      "text/plain": [
       "<Figure size 432x288 with 1 Axes>"
      ]
     },
     "metadata": {
      "needs_background": "light"
     },
     "output_type": "display_data"
    }
   ],
   "source": [
    "opn.plot()"
   ]
  },
  {
   "cell_type": "code",
   "execution_count": 8,
   "metadata": {},
   "outputs": [
    {
     "data": {
      "text/plain": [
       "array([0.69633031, 0.69565219, 0.69935936, ..., 0.69115192, 0.68849182,\n",
       "       0.6848377 ])"
      ]
     },
     "execution_count": 8,
     "metadata": {},
     "output_type": "execute_result"
    }
   ],
   "source": [
    "ds = opn.values\n",
    "ds"
   ]
  },
  {
   "cell_type": "code",
   "execution_count": 9,
   "metadata": {},
   "outputs": [
    {
     "data": {
      "text/plain": [
       "[<matplotlib.lines.Line2D at 0x128f19534a8>]"
      ]
     },
     "execution_count": 9,
     "metadata": {},
     "output_type": "execute_result"
    },
    {
     "data": {
      "image/png": "[encoded data removed]",
      "text/plain": [
       "<Figure size 432x288 with 1 Axes>"
      ]
     },
     "metadata": {
      "needs_background": "light"
     },
     "output_type": "display_data"
    }
   ],
   "source": [
    "plt.plot(ds)"
   ]
  },
  {
   "cell_type": "markdown",
   "metadata": {},
   "source": [
    "### Using MinMaxScaler for Normalizing Data Between 0 & 1"
   ]
  },
  {
   "cell_type": "code",
   "execution_count": 10,
   "metadata": {},
   "outputs": [],
   "source": [
    "normalizer = MinMaxScaler(feature_range=(0,1))\n",
    "ds_scaled = normalizer.fit_transform(np.array(ds).reshape(-1,1))"
   ]
  },
  {
   "cell_type": "code",
   "execution_count": 11,
   "metadata": {},
   "outputs": [
    {
     "data": {
      "text/plain": [
       "(1302, 1302)"
      ]
     },
     "execution_count": 11,
     "metadata": {},
     "output_type": "execute_result"
    }
   ],
   "source": [
    "len(ds_scaled), len(ds)"
   ]
  },
  {
   "cell_type": "markdown",
   "metadata": {},
   "source": [
    "### Defining Test and Train Data Sizes"
   ]
  },
  {
   "cell_type": "code",
   "execution_count": 12,
   "metadata": {},
   "outputs": [],
   "source": [
    "train_size = int(len(ds_scaled)*0.7)\n",
    "test_size = len(ds_scaled) - train_size"
   ]
  },
  {
   "cell_type": "code",
   "execution_count": 13,
   "metadata": {},
   "outputs": [
    {
     "data": {
      "text/plain": [
       "(911, 391)"
      ]
     },
     "execution_count": 13,
     "metadata": {},
     "output_type": "execute_result"
    }
   ],
   "source": [
    "train_size,test_size"
   ]
  },
  {
   "cell_type": "markdown",
   "metadata": {},
   "source": [
    "### Split Data Between Train and Test"
   ]
  },
  {
   "cell_type": "code",
   "execution_count": 14,
   "metadata": {},
   "outputs": [],
   "source": [
    "ds_train, ds_test = ds_scaled[0:train_size,:], ds_scaled[train_size:len(ds_scaled),:1]"
   ]
  },
  {
   "cell_type": "code",
   "execution_count": 15,
   "metadata": {},
   "outputs": [
    {
     "data": {
      "text/plain": [
       "(911, 391)"
      ]
     },
     "execution_count": 15,
     "metadata": {},
     "output_type": "execute_result"
    }
   ],
   "source": [
    "len(ds_train),len(ds_test)"
   ]
  },
  {
   "cell_type": "markdown",
   "metadata": {},
   "source": [
    "### Creating Dataset in Time Series for LSTM Model"
   ]
  },
  {
   "cell_type": "code",
   "execution_count": 16,
   "metadata": {},
   "outputs": [],
   "source": [
    "def create_ds(dataset,step):\n",
    "    Xtrain, Ytrain = [], []\n",
    "    for i in range(len(dataset)-step-1):\n",
    "        a = dataset[i:(i+step), 0]\n",
    "        Xtrain.append(a)\n",
    "        Ytrain.append(dataset[i + step, 0])\n",
    "    return np.array(Xtrain), np.array(Ytrain)"
   ]
  },
  {
   "cell_type": "markdown",
   "metadata": {},
   "source": [
    "### Taking n Days Price As One Record for Training"
   ]
  },
  {
   "cell_type": "code",
   "execution_count": 17,
   "metadata": {},
   "outputs": [],
   "source": [
    "time_stamp = 100\n",
    "X_train, y_train = create_ds(ds_train,time_stamp)\n",
    "X_test, y_test = create_ds(ds_test,time_stamp)"
   ]
  },
  {
   "cell_type": "code",
   "execution_count": 18,
   "metadata": {},
   "outputs": [
    {
     "data": {
      "text/plain": [
       "((810, 100), (810,))"
      ]
     },
     "execution_count": 18,
     "metadata": {},
     "output_type": "execute_result"
    }
   ],
   "source": [
    "X_train.shape, y_train.shape"
   ]
  },
  {
   "cell_type": "code",
   "execution_count": 19,
   "metadata": {},
   "outputs": [
    {
     "data": {
      "text/plain": [
       "((290, 100), (290,))"
      ]
     },
     "execution_count": 19,
     "metadata": {},
     "output_type": "execute_result"
    }
   ],
   "source": [
    "X_test.shape, y_test.shape"
   ]
  },
  {
   "cell_type": "markdown",
   "metadata": {},
   "source": [
    "### Reshaping Data to Fit Into LSTM Model"
   ]
  },
  {
   "cell_type": "code",
   "execution_count": 20,
   "metadata": {},
   "outputs": [],
   "source": [
    "X_train = X_train.reshape(X_train.shape[0],X_train.shape[1],1)\n",
    "X_test = X_test.reshape(X_test.shape[0],X_test.shape[1],1)"
   ]
  },
  {
   "cell_type": "markdown",
   "metadata": {},
   "source": [
    "### Creating LSTM Model Using Keras"
   ]
  },
  {
   "cell_type": "code",
   "execution_count": 21,
   "metadata": {},
   "outputs": [
    {
     "name": "stdout",
     "output_type": "stream",
     "text": [
      "Model: \"sequential\"\n",
      "_________________________________________________________________\n",
      "Layer (type)                 Output Shape              Param #   \n",
      "=================================================================\n",
      "lstm (LSTM)                  (None, 100, 50)           10400     \n",
      "_________________________________________________________________\n",
      "lstm_1 (LSTM)                (None, 100, 50)           20200     \n",
      "_________________________________________________________________\n",
      "lstm_2 (LSTM)                (None, 50)                20200     \n",
      "_________________________________________________________________\n",
      "dense (Dense)                (None, 1)                 51        \n",
      "=================================================================\n",
      "Total params: 50,851\n",
      "Trainable params: 50,851\n",
      "Non-trainable params: 0\n",
      "_________________________________________________________________\n"
     ]
    }
   ],
   "source": [
    "model = Sequential()\n",
    "model.add(LSTM(units=50, return_sequences=True, input_shape=(X_train.shape[1], 1)))\n",
    "model.add(LSTM(units=50, return_sequences=True))\n",
    "model.add(LSTM(units=50))\n",
    "model.add(Dense(units=1, activation='linear'))\n",
    "model.summary()"
   ]
  },
  {
   "cell_type": "markdown",
   "metadata": {},
   "source": [
    "### Training Model With Adam Optimizer And Aqured Error Loss Function"
   ]
  },
  {
   "cell_type": "code",
   "execution_count": 22,
   "metadata": {},
   "outputs": [
    {
     "name": "stdout",
     "output_type": "stream",
     "text": [
      "Train on 810 samples, validate on 290 samples\n",
      "Epoch 1/100\n",
      "810/810 [==============================] - 90s 111ms/sample - loss: 0.1137 - val_loss: 0.0150\n",
      "Epoch 2/100\n",
      "810/810 [==============================] - 15s 19ms/sample - loss: 0.0131 - val_loss: 0.0048\n",
      "Epoch 3/100\n",
      "810/810 [==============================] - 11s 14ms/sample - loss: 0.0074 - val_loss: 0.0072\n",
      "Epoch 4/100\n",
      "810/810 [==============================] - 10s 12ms/sample - loss: 0.0053 - val_loss: 0.0042\n",
      "Epoch 5/100\n",
      "810/810 [==============================] - 10s 12ms/sample - loss: 0.0046 - val_loss: 0.0029\n",
      "Epoch 6/100\n",
      "810/810 [==============================] - 10s 13ms/sample - loss: 0.0040 - val_loss: 0.0028\n",
      "Epoch 7/100\n",
      "810/810 [==============================] - 10s 13ms/sample - loss: 0.0036 - val_loss: 0.0029\n",
      "Epoch 8/100\n",
      "810/810 [==============================] - 11s 13ms/sample - loss: 0.0034 - val_loss: 0.0028\n",
      "Epoch 9/100\n",
      "810/810 [==============================] - 11s 14ms/sample - loss: 0.0033 - val_loss: 0.0028\n",
      "Epoch 10/100\n",
      "810/810 [==============================] - 10s 13ms/sample - loss: 0.0033 - val_loss: 0.0028\n",
      "Epoch 11/100\n",
      "810/810 [==============================] - 11s 14ms/sample - loss: 0.0032 - val_loss: 0.0027\n",
      "Epoch 12/100\n",
      "810/810 [==============================] - 11s 13ms/sample - loss: 0.0031 - val_loss: 0.0026\n",
      "Epoch 13/100\n",
      "810/810 [==============================] - 11s 13ms/sample - loss: 0.0030 - val_loss: 0.0026\n",
      "Epoch 14/100\n",
      "810/810 [==============================] - 14s 17ms/sample - loss: 0.0029 - val_loss: 0.0026\n",
      "Epoch 15/100\n",
      "810/810 [==============================] - 14s 17ms/sample - loss: 0.0028 - val_loss: 0.0029\n",
      "Epoch 16/100\n",
      "810/810 [==============================] - 14s 18ms/sample - loss: 0.0028 - val_loss: 0.0025\n",
      "Epoch 17/100\n",
      "810/810 [==============================] - 13s 17ms/sample - loss: 0.0028 - val_loss: 0.0028\n",
      "Epoch 18/100\n",
      "810/810 [==============================] - 14s 18ms/sample - loss: 0.0027 - val_loss: 0.0024\n",
      "Epoch 19/100\n",
      "810/810 [==============================] - 13s 17ms/sample - loss: 0.0025 - val_loss: 0.0023\n",
      "Epoch 20/100\n",
      "810/810 [==============================] - 13s 16ms/sample - loss: 0.0025 - val_loss: 0.0023\n",
      "Epoch 21/100\n",
      "810/810 [==============================] - 14s 17ms/sample - loss: 0.0025 - val_loss: 0.0024\n",
      "Epoch 22/100\n",
      "810/810 [==============================] - 13s 16ms/sample - loss: 0.0026 - val_loss: 0.0026\n",
      "Epoch 23/100\n",
      "810/810 [==============================] - 13s 16ms/sample - loss: 0.0024 - val_loss: 0.0022\n",
      "Epoch 24/100\n",
      "810/810 [==============================] - 12s 15ms/sample - loss: 0.0024 - val_loss: 0.0021\n",
      "Epoch 25/100\n",
      "810/810 [==============================] - 7s 9ms/sample - loss: 0.0023 - val_loss: 0.0022\n",
      "Epoch 26/100\n",
      "810/810 [==============================] - 10s 12ms/sample - loss: 0.0024 - val_loss: 0.0036\n",
      "Epoch 27/100\n",
      "810/810 [==============================] - 12s 14ms/sample - loss: 0.0027 - val_loss: 0.0021\n",
      "Epoch 28/100\n",
      "810/810 [==============================] - 11s 13ms/sample - loss: 0.0025 - val_loss: 0.0034\n",
      "Epoch 29/100\n",
      "810/810 [==============================] - 13s 16ms/sample - loss: 0.0025 - val_loss: 0.0023\n",
      "Epoch 30/100\n",
      "810/810 [==============================] - 12s 15ms/sample - loss: 0.0022 - val_loss: 0.0019\n",
      "Epoch 31/100\n",
      "810/810 [==============================] - 12s 15ms/sample - loss: 0.0022 - val_loss: 0.0019\n",
      "Epoch 32/100\n",
      "810/810 [==============================] - 15s 18ms/sample - loss: 0.0022 - val_loss: 0.0019\n",
      "Epoch 33/100\n",
      "810/810 [==============================] - 14s 17ms/sample - loss: 0.0022 - val_loss: 0.0028\n",
      "Epoch 34/100\n",
      "810/810 [==============================] - 13s 17ms/sample - loss: 0.0023 - val_loss: 0.0018\n",
      "Epoch 35/100\n",
      "810/810 [==============================] - 13s 16ms/sample - loss: 0.0022 - val_loss: 0.0018\n",
      "Epoch 36/100\n",
      "810/810 [==============================] - 15s 18ms/sample - loss: 0.0022 - val_loss: 0.0019\n",
      "Epoch 37/100\n",
      "810/810 [==============================] - 14s 17ms/sample - loss: 0.0021 - val_loss: 0.0018\n",
      "Epoch 38/100\n",
      "810/810 [==============================] - 13s 16ms/sample - loss: 0.0021 - val_loss: 0.0019\n",
      "Epoch 39/100\n",
      "810/810 [==============================] - 15s 18ms/sample - loss: 0.0020 - val_loss: 0.0017\n",
      "Epoch 40/100\n",
      "810/810 [==============================] - 12s 15ms/sample - loss: 0.0020 - val_loss: 0.0017\n",
      "Epoch 41/100\n",
      "810/810 [==============================] - 14s 17ms/sample - loss: 0.0020 - val_loss: 0.0017\n",
      "Epoch 42/100\n",
      "810/810 [==============================] - 13s 16ms/sample - loss: 0.0020 - val_loss: 0.0016\n",
      "Epoch 43/100\n",
      "810/810 [==============================] - 7s 9ms/sample - loss: 0.0021 - val_loss: 0.0015\n",
      "Epoch 44/100\n",
      "810/810 [==============================] - 6s 8ms/sample - loss: 0.0021 - val_loss: 0.0015\n",
      "Epoch 45/100\n",
      "810/810 [==============================] - 6s 8ms/sample - loss: 0.0019 - val_loss: 0.0015\n",
      "Epoch 46/100\n",
      "810/810 [==============================] - 6s 8ms/sample - loss: 0.0019 - val_loss: 0.0027\n",
      "Epoch 47/100\n",
      "810/810 [==============================] - 8s 10ms/sample - loss: 0.0022 - val_loss: 0.0026\n",
      "Epoch 48/100\n",
      "810/810 [==============================] - 11s 13ms/sample - loss: 0.0020 - val_loss: 0.0017\n",
      "Epoch 49/100\n",
      "810/810 [==============================] - 9s 11ms/sample - loss: 0.0019 - val_loss: 0.0014\n",
      "Epoch 50/100\n",
      "810/810 [==============================] - 10s 12ms/sample - loss: 0.0018 - val_loss: 0.0014\n",
      "Epoch 51/100\n",
      "810/810 [==============================] - 13s 16ms/sample - loss: 0.0019 - val_loss: 0.0016\n",
      "Epoch 52/100\n",
      "810/810 [==============================] - 14s 17ms/sample - loss: 0.0018 - val_loss: 0.0014\n",
      "Epoch 53/100\n",
      "810/810 [==============================] - 12s 14ms/sample - loss: 0.0018 - val_loss: 0.0013\n",
      "Epoch 54/100\n",
      "810/810 [==============================] - 12s 15ms/sample - loss: 0.0018 - val_loss: 0.0013\n",
      "Epoch 55/100\n",
      "810/810 [==============================] - 12s 15ms/sample - loss: 0.0017 - val_loss: 0.0012\n",
      "Epoch 56/100\n",
      "810/810 [==============================] - 14s 17ms/sample - loss: 0.0016 - val_loss: 0.0013\n",
      "Epoch 57/100\n",
      "810/810 [==============================] - 13s 16ms/sample - loss: 0.0017 - val_loss: 0.0016\n",
      "Epoch 58/100\n",
      "810/810 [==============================] - 13s 16ms/sample - loss: 0.0017 - val_loss: 0.0012\n",
      "Epoch 59/100\n",
      "810/810 [==============================] - 14s 18ms/sample - loss: 0.0016 - val_loss: 0.0012\n",
      "Epoch 60/100\n",
      "810/810 [==============================] - 14s 17ms/sample - loss: 0.0016 - val_loss: 0.0012\n",
      "Epoch 61/100\n",
      "810/810 [==============================] - 14s 17ms/sample - loss: 0.0016 - val_loss: 0.0017\n",
      "Epoch 62/100\n",
      "810/810 [==============================] - 14s 17ms/sample - loss: 0.0017 - val_loss: 0.0011\n",
      "Epoch 63/100\n",
      "810/810 [==============================] - 14s 17ms/sample - loss: 0.0015 - val_loss: 0.0012\n",
      "Epoch 64/100\n",
      "810/810 [==============================] - 14s 18ms/sample - loss: 0.0016 - val_loss: 0.0011\n",
      "Epoch 65/100\n",
      "810/810 [==============================] - 14s 17ms/sample - loss: 0.0016 - val_loss: 0.0014\n",
      "Epoch 66/100\n",
      "810/810 [==============================] - 15s 18ms/sample - loss: 0.0016 - val_loss: 0.0011\n",
      "Epoch 67/100\n",
      "810/810 [==============================] - 14s 18ms/sample - loss: 0.0015 - val_loss: 0.0012\n",
      "Epoch 68/100\n",
      "810/810 [==============================] - 13s 17ms/sample - loss: 0.0015 - val_loss: 0.0012\n",
      "Epoch 69/100\n",
      "810/810 [==============================] - 15s 19ms/sample - loss: 0.0014 - val_loss: 0.0010\n",
      "Epoch 70/100\n",
      "810/810 [==============================] - 15s 18ms/sample - loss: 0.0014 - val_loss: 9.6581e-04\n",
      "Epoch 71/100\n",
      "810/810 [==============================] - 13s 16ms/sample - loss: 0.0014 - val_loss: 0.0010\n",
      "Epoch 72/100\n",
      "810/810 [==============================] - 18s 22ms/sample - loss: 0.0015 - val_loss: 0.0024\n",
      "Epoch 73/100\n",
      "810/810 [==============================] - 17s 21ms/sample - loss: 0.0017 - val_loss: 0.0016\n",
      "Epoch 74/100\n",
      "810/810 [==============================] - 14s 17ms/sample - loss: 0.0015 - val_loss: 9.3479e-04\n",
      "Epoch 75/100\n",
      "810/810 [==============================] - 11s 14ms/sample - loss: 0.0014 - val_loss: 9.2503e-04\n",
      "Epoch 76/100\n",
      "810/810 [==============================] - 7s 9ms/sample - loss: 0.0014 - val_loss: 0.0010\n",
      "Epoch 77/100\n",
      "810/810 [==============================] - 8s 10ms/sample - loss: 0.0013 - val_loss: 0.0011\n",
      "Epoch 78/100\n",
      "810/810 [==============================] - 9s 12ms/sample - loss: 0.0016 - val_loss: 0.0011\n",
      "Epoch 79/100\n",
      "810/810 [==============================] - 12s 15ms/sample - loss: 0.0013 - val_loss: 8.7174e-04\n",
      "Epoch 80/100\n",
      "810/810 [==============================] - 14s 17ms/sample - loss: 0.0013 - val_loss: 8.7885e-04\n",
      "Epoch 81/100\n",
      "810/810 [==============================] - 11s 14ms/sample - loss: 0.0012 - val_loss: 9.8221e-04\n",
      "Epoch 82/100\n",
      "810/810 [==============================] - 14s 17ms/sample - loss: 0.0013 - val_loss: 8.3579e-04\n",
      "Epoch 83/100\n",
      "810/810 [==============================] - 12s 15ms/sample - loss: 0.0012 - val_loss: 8.6939e-04\n",
      "Epoch 84/100\n",
      "810/810 [==============================] - 10s 12ms/sample - loss: 0.0011 - val_loss: 8.8919e-04\n",
      "Epoch 85/100\n",
      "810/810 [==============================] - 11s 13ms/sample - loss: 0.0012 - val_loss: 8.4883e-04\n",
      "Epoch 86/100\n",
      "810/810 [==============================] - 10s 12ms/sample - loss: 0.0011 - val_loss: 8.2856e-04\n",
      "Epoch 87/100\n",
      "810/810 [==============================] - 15s 19ms/sample - loss: 0.0010 - val_loss: 8.7108e-04\n",
      "Epoch 88/100\n",
      "810/810 [==============================] - 11s 13ms/sample - loss: 0.0010 - val_loss: 7.7858e-04\n",
      "Epoch 89/100\n",
      "810/810 [==============================] - 16s 19ms/sample - loss: 0.0011 - val_loss: 8.3729e-04\n",
      "Epoch 90/100\n",
      "810/810 [==============================] - 13s 16ms/sample - loss: 0.0011 - val_loss: 0.0019\n",
      "Epoch 91/100\n",
      "810/810 [==============================] - 14s 17ms/sample - loss: 0.0014 - val_loss: 0.0012\n",
      "Epoch 92/100\n",
      "810/810 [==============================] - 15s 18ms/sample - loss: 9.7006e-04 - val_loss: 9.3820e-04\n",
      "Epoch 93/100\n",
      "810/810 [==============================] - 15s 19ms/sample - loss: 0.0010 - val_loss: 8.6197e-04\n",
      "Epoch 94/100\n",
      "810/810 [==============================] - 14s 18ms/sample - loss: 0.0010 - val_loss: 7.6571e-04\n",
      "Epoch 95/100\n",
      "810/810 [==============================] - 16s 19ms/sample - loss: 9.0080e-04 - val_loss: 8.8237e-04\n",
      "Epoch 96/100\n",
      "810/810 [==============================] - 14s 18ms/sample - loss: 8.7592e-04 - val_loss: 0.0011\n",
      "Epoch 97/100\n",
      "810/810 [==============================] - 18s 22ms/sample - loss: 0.0010 - val_loss: 9.8373e-04\n",
      "Epoch 98/100\n",
      "810/810 [==============================] - 10s 12ms/sample - loss: 9.2970e-04 - val_loss: 0.0014\n",
      "Epoch 99/100\n",
      "810/810 [==============================] - 11s 13ms/sample - loss: 8.9574e-04 - val_loss: 8.0138e-04\n",
      "Epoch 100/100\n",
      "810/810 [==============================] - 12s 15ms/sample - loss: 9.3142e-04 - val_loss: 8.0172e-04\n"
     ]
    },
    {
     "data": {
      "text/plain": [
       "<tensorflow.python.keras.callbacks.History at 0x128f346eac8>"
      ]
     },
     "execution_count": 22,
     "metadata": {},
     "output_type": "execute_result"
    }
   ],
   "source": [
    "model.compile(loss='mean_squared_error',optimizer='adam')\n",
    "model.fit(X_train, y_train,validation_data=[X_test,y_test],epochs=100,batch_size=64)"
   ]
  },
  {
   "cell_type": "markdown",
   "metadata": {},
   "source": [
    "### Plotting Loss"
   ]
  },
  {
   "cell_type": "code",
   "execution_count": 23,
   "metadata": {},
   "outputs": [
    {
     "data": {
      "text/plain": [
       "[<matplotlib.lines.Line2D at 0x128ff928d30>]"
      ]
     },
     "execution_count": 23,
     "metadata": {},
     "output_type": "execute_result"
    },
    {
     "data": {
      "image/png": "[encoded data removed]",
      "text/plain": [
       "<Figure size 432x288 with 1 Axes>"
      ]
     },
     "metadata": {
      "needs_background": "light"
     },
     "output_type": "display_data"
    }
   ],
   "source": [
    "loss = model.history.history['loss']\n",
    "plt.plot(loss)"
   ]
  },
  {
   "cell_type": "markdown",
   "metadata": {},
   "source": [
    "### Predicting On Train And Test Data"
   ]
  },
  {
   "cell_type": "code",
   "execution_count": 24,
   "metadata": {},
   "outputs": [],
   "source": [
    "train_predict = model.predict(X_train)\n",
    "test_predict = model.predict(X_test)"
   ]
  },
  {
   "cell_type": "markdown",
   "metadata": {},
   "source": [
    "### Inverse transform to Get Actual Value"
   ]
  },
  {
   "cell_type": "code",
   "execution_count": 25,
   "metadata": {},
   "outputs": [],
   "source": [
    "train_predict = normalizer.inverse_transform(train_predict)\n",
    "test_predict = normalizer.inverse_transform(test_predict)"
   ]
  },
  {
   "cell_type": "markdown",
   "metadata": {},
   "source": [
    "### Comparing Using Visuals"
   ]
  },
  {
   "cell_type": "code",
   "execution_count": 26,
   "metadata": {},
   "outputs": [
    {
     "data": {
      "text/plain": [
       "[<matplotlib.lines.Line2D at 0x128ff873550>]"
      ]
     },
     "execution_count": 26,
     "metadata": {},
     "output_type": "execute_result"
    },
    {
     "data": {
      "image/png": "[encoded data removed]",
      "text/plain": [
       "<Figure size 432x288 with 1 Axes>"
      ]
     },
     "metadata": {
      "needs_background": "light"
     },
     "output_type": "display_data"
    }
   ],
   "source": [
    "plt.plot(normalizer.inverse_transform(ds_scaled))\n",
    "plt.plot(train_predict)\n",
    "plt.plot(test_predict)"
   ]
  },
  {
   "cell_type": "code",
   "execution_count": 27,
   "metadata": {},
   "outputs": [
    {
     "data": {
      "text/plain": [
       "numpy.ndarray"
      ]
     },
     "execution_count": 27,
     "metadata": {},
     "output_type": "execute_result"
    }
   ],
   "source": [
    "type(train_predict)"
   ]
  },
  {
   "cell_type": "code",
   "execution_count": 28,
   "metadata": {},
   "outputs": [],
   "source": [
    "test = np.vstack((train_predict,test_predict))"
   ]
  },
  {
   "cell_type": "markdown",
   "metadata": {},
   "source": [
    "### Combining The Predicted Data To Create Uniform Data Visualization"
   ]
  },
  {
   "cell_type": "code",
   "execution_count": 29,
   "metadata": {
    "scrolled": false
   },
   "outputs": [
    {
     "data": {
      "text/plain": [
       "[<matplotlib.lines.Line2D at 0x128ff95ce10>]"
      ]
     },
     "execution_count": 29,
     "metadata": {},
     "output_type": "execute_result"
    },
    {
     "data": {
      "image/png": "[encoded data removed]",
      "text/plain": [
       "<Figure size 432x288 with 1 Axes>"
      ]
     },
     "metadata": {
      "needs_background": "light"
     },
     "output_type": "display_data"
    }
   ],
   "source": [
    "plt.plot(normalizer.inverse_transform(ds_scaled))\n",
    "plt.plot(test)"
   ]
  },
  {
   "cell_type": "code",
   "execution_count": 30,
   "metadata": {
    "scrolled": true
   },
   "outputs": [
    {
     "data": {
      "text/plain": [
       "391"
      ]
     },
     "execution_count": 30,
     "metadata": {},
     "output_type": "execute_result"
    }
   ],
   "source": [
    "len(ds_test)"
   ]
  },
  {
   "cell_type": "markdown",
   "metadata": {},
   "source": [
    "### Getting The Last 100 Days Records"
   ]
  },
  {
   "cell_type": "code",
   "execution_count": 31,
   "metadata": {},
   "outputs": [],
   "source": [
    "fut_inp = ds_test[291:]"
   ]
  },
  {
   "cell_type": "code",
   "execution_count": 32,
   "metadata": {},
   "outputs": [],
   "source": [
    "fut_inp = fut_inp.reshape(1,-1)"
   ]
  },
  {
   "cell_type": "code",
   "execution_count": 33,
   "metadata": {},
   "outputs": [],
   "source": [
    "tpm_inp = list(fut_inp)"
   ]
  },
  {
   "cell_type": "code",
   "execution_count": 34,
   "metadata": {},
   "outputs": [
    {
     "data": {
      "text/plain": [
       "(1, 100)"
      ]
     },
     "execution_count": 34,
     "metadata": {},
     "output_type": "execute_result"
    }
   ],
   "source": [
    "fut_inp.shape"
   ]
  },
  {
   "cell_type": "markdown",
   "metadata": {},
   "source": [
    "### Creating List of The Last n data"
   ]
  },
  {
   "cell_type": "code",
   "execution_count": 35,
   "metadata": {
    "scrolled": true
   },
   "outputs": [],
   "source": [
    "tmp_inp = tpm_inp[0].tolist()"
   ]
  },
  {
   "cell_type": "markdown",
   "metadata": {},
   "source": [
    "### predicting next 30 Days price using the current data\n",
    "### It Will In Sliding Window Manner (algorithm) With Stride 1"
   ]
  },
  {
   "cell_type": "code",
   "execution_count": 36,
   "metadata": {},
   "outputs": [
    {
     "name": "stdout",
     "output_type": "stream",
     "text": [
      "[[0.6552431583404541], [0.6466822624206543], [0.6425378918647766], [0.6404238939285278], [0.6391297578811646], [0.6380465030670166], [0.6368050575256348], [0.6351495981216431], [0.6329120993614197], [0.6300134062767029], [0.6264581084251404], [0.6223208904266357], [0.6177263259887695], [0.6128255724906921], [0.6077742576599121], [0.6027133464813232], [0.5977550148963928], [0.5929759740829468], [0.5884150266647339], [0.5840765833854675], [0.5799371600151062], [0.5759546756744385], [0.5720770955085754], [0.5682513117790222], [0.564428985118866], [0.5605724453926086], [0.5566563606262207], [0.5526685118675232], [0.5486088991165161], [0.5444874167442322]]\n"
     ]
    }
   ],
   "source": [
    "lst_output=[]\n",
    "n_steps=100\n",
    "i=0\n",
    "while(i<30):\n",
    "    \n",
    "    if(len(tmp_inp)>100):\n",
    "        fut_inp = np.array(tmp_inp[1:])\n",
    "        fut_inp = fut_inp.reshape(1,-1)\n",
    "        fut_inp = fut_inp.reshape((1, n_steps, 1))\n",
    "        yhat = model.predict(fut_inp, verbose=0)\n",
    "        tmp_inp.extend(yhat[0].tolist())\n",
    "        tmp_inp = tmp_inp[1:]\n",
    "        lst_output.extend(yhat.tolist())\n",
    "        i=i+1\n",
    "    else:\n",
    "        fut_inp = fut_inp.reshape((1, n_steps, 1))\n",
    "        yhat = model.predict(fut_inp, verbose=0)\n",
    "        tmp_inp.extend(yhat[0].tolist())\n",
    "        lst_output.extend(yhat.tolist())\n",
    "        i=i+1\n",
    "        \n",
    "print(lst_output)"
   ]
  },
  {
   "cell_type": "code",
   "execution_count": 37,
   "metadata": {},
   "outputs": [
    {
     "data": {
      "text/plain": [
       "1302"
      ]
     },
     "execution_count": 37,
     "metadata": {},
     "output_type": "execute_result"
    }
   ],
   "source": [
    "len(ds_scaled)"
   ]
  },
  {
   "cell_type": "markdown",
   "metadata": {},
   "source": [
    "### creating A Dummy Plane To Plot Graph One After Another"
   ]
  },
  {
   "cell_type": "code",
   "execution_count": 38,
   "metadata": {},
   "outputs": [],
   "source": [
    "plot_new = np.arange(1,101)\n",
    "plot_pred = np.arange(101,131)"
   ]
  },
  {
   "cell_type": "code",
   "execution_count": 39,
   "metadata": {},
   "outputs": [
    {
     "data": {
      "text/plain": [
       "[<matplotlib.lines.Line2D at 0x128849cd630>]"
      ]
     },
     "execution_count": 39,
     "metadata": {},
     "output_type": "execute_result"
    },
    {
     "data": {
      "image/png": "[encoded data removed]",
      "text/plain": [
       "<Figure size 432x288 with 1 Axes>"
      ]
     },
     "metadata": {
      "needs_background": "light"
     },
     "output_type": "display_data"
    }
   ],
   "source": [
    "plt.plot(plot_new, normalizer.inverse_transform(ds_scaled[1202:]))\n",
    "plt.plot(plot_pred, normalizer.inverse_transform(lst_output))"
   ]
  },
  {
   "cell_type": "code",
   "execution_count": 40,
   "metadata": {},
   "outputs": [],
   "source": [
    "ds_new = ds_scaled.tolist()"
   ]
  },
  {
   "cell_type": "code",
   "execution_count": 41,
   "metadata": {},
   "outputs": [
    {
     "data": {
      "text/plain": [
       "1302"
      ]
     },
     "execution_count": 41,
     "metadata": {},
     "output_type": "execute_result"
    }
   ],
   "source": [
    "len(ds_new)"
   ]
  },
  {
   "cell_type": "markdown",
   "metadata": {},
   "source": [
    "### Extend Helps Us Fill The Missing Values With Approx Value"
   ]
  },
  {
   "cell_type": "code",
   "execution_count": 42,
   "metadata": {},
   "outputs": [
    {
     "data": {
      "text/plain": [
       "[<matplotlib.lines.Line2D at 0x128855fcda0>]"
      ]
     },
     "execution_count": 42,
     "metadata": {},
     "output_type": "execute_result"
    },
    {
     "data": {
      "image/png": "[encoded data removed]",
      "text/plain": [
       "<Figure size 432x288 with 1 Axes>"
      ]
     },
     "metadata": {
      "needs_background": "light"
     },
     "output_type": "display_data"
    }
   ],
   "source": [
    "ds_new.extend(lst_output)\n",
    "plt.plot(ds_new[1200:])"
   ]
  },
  {
   "cell_type": "markdown",
   "metadata": {},
   "source": [
    "### Creating Final Data For Plotting"
   ]
  },
  {
   "cell_type": "code",
   "execution_count": 43,
   "metadata": {},
   "outputs": [],
   "source": [
    "final_graph = normalizer.inverse_transform(ds_new).tolist()"
   ]
  },
  {
   "cell_type": "markdown",
   "metadata": {},
   "source": [
    "### Plotting Final Results With Predicted Value After 30 Days"
   ]
  },
  {
   "cell_type": "code",
   "execution_count": 1,
   "metadata": {
    "scrolled": true
   },
   "outputs": [
    {
     "ename": "NameError",
     "evalue": "name 'plt' is not defined",
     "output_type": "error",
     "traceback": [
      "\u001b[1;31m---------------------------------------------------------------------------\u001b[0m",
      "\u001b[1;31mNameError\u001b[0m                                 Traceback (most recent call last)",
      "\u001b[1;32m<ipython-input-1-930bee4bca11>\u001b[0m in \u001b[0;36m<module>\u001b[1;34m\u001b[0m\n\u001b[1;32m----> 1\u001b[1;33m \u001b[0mplt\u001b[0m\u001b[1;33m.\u001b[0m\u001b[0mplot\u001b[0m\u001b[1;33m(\u001b[0m\u001b[0mfinal_graph\u001b[0m\u001b[1;33m,\u001b[0m\u001b[1;33m)\u001b[0m\u001b[1;33m\u001b[0m\u001b[1;33m\u001b[0m\u001b[0m\n\u001b[0m\u001b[0;32m      2\u001b[0m \u001b[0mplt\u001b[0m\u001b[1;33m.\u001b[0m\u001b[0mylabel\u001b[0m\u001b[1;33m(\u001b[0m\u001b[1;34m\"Price\"\u001b[0m\u001b[1;33m)\u001b[0m\u001b[1;33m\u001b[0m\u001b[1;33m\u001b[0m\u001b[0m\n\u001b[0;32m      3\u001b[0m \u001b[0mplt\u001b[0m\u001b[1;33m.\u001b[0m\u001b[0mxlabel\u001b[0m\u001b[1;33m(\u001b[0m\u001b[1;34m\"Time\"\u001b[0m\u001b[1;33m)\u001b[0m\u001b[1;33m\u001b[0m\u001b[1;33m\u001b[0m\u001b[0m\n\u001b[0;32m      4\u001b[0m \u001b[0mplt\u001b[0m\u001b[1;33m.\u001b[0m\u001b[0mtitle\u001b[0m\u001b[1;33m(\u001b[0m\u001b[1;34m\"{0} Prediction of Next Month open\"\u001b[0m\u001b[1;33m.\u001b[0m\u001b[0mformat\u001b[0m\u001b[1;33m(\u001b[0m\u001b[0mstock_symbol\u001b[0m\u001b[1;33m)\u001b[0m\u001b[1;33m)\u001b[0m\u001b[1;33m\u001b[0m\u001b[1;33m\u001b[0m\u001b[0m\n\u001b[0;32m      5\u001b[0m \u001b[1;33m\u001b[0m\u001b[0m\n",
      "\u001b[1;31mNameError\u001b[0m: name 'plt' is not defined"
     ]
    }
   ],
   "source": [
    "plt.plot(final_graph,)\n",
    "plt.ylabel(\"Price\")\n",
    "plt.xlabel(\"Time\")\n",
    "plt.title(\"{0} Prediction of Next Month open\".format(stock_symbol))\n",
    "\n",
    "plt.legend(color='gray')"
   ]
  },
  {
   "cell_type": "code",
   "execution_count": null,
   "metadata": {},
   "outputs": [],
   "source": []
  }
 ],
 "metadata": {
  "kernelspec": {
   "display_name": "Python 3",
   "language": "python",
   "name": "python3"
  },
  "language_info": {
   "codemirror_mode": {
    "name": "ipython",
    "version": 3
   },
   "file_extension": ".py",
   "mimetype": "text/x-python",
   "name": "python",
   "nbconvert_exporter": "python",
   "pygments_lexer": "ipython3",
   "version": "3.7.3"
  }
 },
 "nbformat": 4,
 "nbformat_minor": 2
}
